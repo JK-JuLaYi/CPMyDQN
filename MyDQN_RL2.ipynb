{
 "cells": [
  {
   "cell_type": "code",
   "execution_count": null,
   "id": "577bf3fc-518e-49f8-ba78-997b33b7f059",
   "metadata": {
    "tags": []
   },
   "outputs": [],
   "source": [
    "from tensorflow.keras.models import Sequential\n",
    "from tensorflow.keras.optimizers import Adam\n",
    "from tensorflow.keras.layers import Activation,Dense,Flatten\n",
    "import gym"
   ]
  },
  {
   "cell_type": "code",
   "execution_count": null,
   "id": "b5dd1b5f",
   "metadata": {},
   "outputs": [],
   "source": [
    "from rl.agents.dqn import DQNAgent\n",
    "# from tf_agents.agents.dqn import dqn_agent"
   ]
  },
  {
   "cell_type": "code",
   "execution_count": null,
   "id": "d94e9e16",
   "metadata": {},
   "outputs": [],
   "source": [
    "env = gym.make('CartPole-v1',render_mode='human')\n",
    "no_obs = env.observation_space.shape\n",
    "no_actions = env.action_space.n"
   ]
  },
  {
   "cell_type": "code",
   "execution_count": null,
   "id": "feff11da",
   "metadata": {},
   "outputs": [],
   "source": [
    "model = Sequential()\n",
    "model.add(Flatten(input_shape=(1,4)+no_obs))\n",
    "model.add(Dense(16,activation='relu'))\n",
    "model.add(Dense(32,activation='relu'))\n",
    "model.add(Dense(32,activation='relu'))\n",
    "model.add(Dense(16,activation='relu'))\n",
    "model.add(Dense(2,activation='linear'))"
   ]
  },
  {
   "cell_type": "code",
   "execution_count": null,
   "id": "7939c49b",
   "metadata": {},
   "outputs": [],
   "source": [
    "model.summary()"
   ]
  },
  {
   "cell_type": "code",
   "execution_count": null,
   "id": "17cb86b2",
   "metadata": {},
   "outputs": [],
   "source": [
    "from rl.memory import SequentialMemory"
   ]
  },
  {
   "cell_type": "code",
   "execution_count": null,
   "id": "01ec593c",
   "metadata": {},
   "outputs": [],
   "source": [
    "memory = SequentialMemory(limit=20000,window_length=1)"
   ]
  },
  {
   "cell_type": "code",
   "execution_count": null,
   "id": "aa06814e",
   "metadata": {},
   "outputs": [],
   "source": [
    "from rl.policy import LinearAnnealedPolicy,EpsGreedyQPolicy"
   ]
  },
  {
   "cell_type": "code",
   "execution_count": null,
   "id": "657c7d98",
   "metadata": {},
   "outputs": [],
   "source": [
    "policy = LinearAnnealedPolicy(EpsGreedyQPolicy(),\n",
    "                              attr='eps',\n",
    "                             value_max=1.0,\n",
    "                             value_min=0.1,\n",
    "                             value_test=0.05,\n",
    "                             nb_steps=20000)"
   ]
  },
  {
   "cell_type": "code",
   "execution_count": null,
   "id": "3b99c953",
   "metadata": {},
   "outputs": [],
   "source": [
    "dqn_agent = DQNAgent(model=model,policy=policy,memory=memory,nb_actions=no_actions,\n",
    "                    target_model_update=25, nb_steps_warmup=10)"
   ]
  },
  {
   "cell_type": "code",
   "execution_count": null,
   "id": "b3d562ab",
   "metadata": {},
   "outputs": [],
   "source": [
    "dqn_agent.compile(Adam(learning_rate=1e-03),metrics=['mse'])"
   ]
  },
  {
   "cell_type": "code",
   "execution_count": null,
   "id": "0b3a4334",
   "metadata": {},
   "outputs": [],
   "source": [
    "dqn_agent.fit(env,nb_steps=20000,verbose=2,visualize=False)"
   ]
  },
  {
   "cell_type": "code",
   "execution_count": null,
   "id": "5a205fa2",
   "metadata": {},
   "outputs": [],
   "source": [
    "env.observation_space"
   ]
  },
  {
   "cell_type": "code",
   "execution_count": null,
   "id": "75f31ce3",
   "metadata": {},
   "outputs": [],
   "source": [
    "from tensorflow import tf_ag"
   ]
  }
 ],
 "metadata": {
  "kernelspec": {
   "display_name": "Python 3 (ipykernel)",
   "language": "python",
   "name": "python3"
  },
  "language_info": {
   "codemirror_mode": {
    "name": "ipython",
    "version": 3
   },
   "file_extension": ".py",
   "mimetype": "text/x-python",
   "name": "python",
   "nbconvert_exporter": "python",
   "pygments_lexer": "ipython3",
   "version": "3.10.6"
  }
 },
 "nbformat": 4,
 "nbformat_minor": 5
}
